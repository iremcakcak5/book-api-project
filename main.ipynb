{
 "cells": [
  {
   "cell_type": "code",
   "execution_count": 1,
   "metadata": {},
   "outputs": [],
   "source": [
    "import pandas as pd\n",
    "import numpy as np\n",
    "import json\n",
    "import base64\n",
    "import requests\n",
    "from config.config import Client_ID,Client_Secret\n",
    "from spotipy.oauth2 import SpotifyClientCredentials\n",
    "from requests.auth import HTTPBasicAuth\n",
    "import spotipy\n",
    "import spotipy.util as util\n",
    "from requests import post , get\n",
    "import time"
   ]
  },
  {
   "cell_type": "code",
   "execution_count": 5,
   "metadata": {},
   "outputs": [
    {
     "name": "stdout",
     "output_type": "stream",
     "text": [
      "Access Token: alındı BQBmIGd87Akl42CQDiEEC4Fo2LX0f9vEYIWvTxmlSbcDAEAzXi5Mznl2GHjeDXWM_pM-AwcgxtMuQ_Ma3feAeY4oRQo_0sfCodl3Hv1TMrYCoZVclc8\n"
     ]
    }
   ],
   "source": [
    "auth_string = f\"{Client_ID}:{Client_Secret}\"\n",
    "auth_bytes = auth_string.encode(\"utf-8\")\n",
    "auth_base64 = base64.b64encode(auth_bytes).decode(\"utf-8\")\n",
    "\n",
    "url = 'https://accounts.spotify.com/api/token'\n",
    "headers = {\n",
    "    'Authorization': 'Basic ' + auth_base64\n",
    "}\n",
    "data = {\n",
    "    'grant_type': 'client_credentials'\n",
    "}\n",
    "\n",
    "response = requests.post(url, headers=headers, data=data)\n",
    "json_result = response.json()\n",
    "\n",
    "if response.status_code == 200:\n",
    "    token = json_result['access_token']\n",
    "    print('Access Token: alındı'+ \" \"+token)\n",
    "else:\n",
    "    print('Error:', response.status_code)\n",
    "    print('Response:', json_result)"
   ]
  },
  {
   "cell_type": "code",
   "execution_count": 6,
   "metadata": {},
   "outputs": [],
   "source": [
    "\n",
    "def get_token():\n",
    "    auth_string = f\"{Client_ID}:{Client_Secret}\"\n",
    "    auth_bytes = auth_string.encode(\"utf-8\")\n",
    "    auth_base64 = base64.b64encode(auth_bytes).decode(\"utf-8\")\n",
    "\n",
    "    url = 'https://accounts.spotify.com/api/token'\n",
    "    headers = {\n",
    "        'Authorization': 'Basic ' + auth_base64\n",
    "    }\n",
    "    data = {\n",
    "        'grant_type': 'client_credentials'\n",
    "    }\n",
    "\n",
    "    response = requests.post(url, headers=headers, data=data)\n",
    "    json_result = response.json()\n",
    "\n",
    "    if response.status_code == 200:\n",
    "        token = json_result['access_token']\n",
    "        print('Access Token: alındı'+ \" \"+token)\n",
    "        return token\n",
    "    else:\n",
    "        print('Error:', response.status_code)\n",
    "        print('Response:', json_result)\n",
    "        return None"
   ]
  },
  {
   "cell_type": "code",
   "execution_count": 14,
   "metadata": {},
   "outputs": [
    {
     "name": "stdout",
     "output_type": "stream",
     "text": [
      "Access Token: alındı BQDNlU9EE1B5i1P5QjyqsF9qX4lucNdpne7kBAMm7oNUALE-ledQ5vSe9ayY3Hhl1eL9KRvfq78zA1hxAqztpz2eNrWw9UxqUDfk-RiYe0eXvatP3J8\n",
      "Playlist ID: 7lGk615a7j3e1NqStHea9r\n",
      "Playlist Name: 1. Çalma Listem\n",
      "Playlist URI: spotify:playlist:7lGk615a7j3e1NqStHea9r\n",
      "Playlist Owner ID: 31rmq7qts5n52ox2si25ead5iqaq\n",
      "-----------------------------\n"
     ]
    }
   ],
   "source": [
    "token = get_token()\n",
    "\n",
    "headers = {\n",
    "    'Authorization': 'Bearer ' + token\n",
    "}\n",
    "\n",
    "url = f\"https://api.spotify.com/v1/users/{'31rmq7qts5n52ox2si25ead5iqaq'}/playlists\"\n",
    "\n",
    "\n",
    "response = requests.get(url, headers=headers)\n",
    "\n",
    "json_result = response.json()\n",
    "\n",
    "if response.status_code == 200:\n",
    "    for playlist in json_result['items']:\n",
    "        print('Playlist ID:', playlist['id'])\n",
    "        print('Playlist Name:', playlist['name'])\n",
    "        print('Playlist URI:', playlist['uri'])\n",
    "        print('Playlist Owner ID:', playlist['owner']['id'])\n",
    "        print('-----------------------------')\n",
    "else:\n",
    "    print('Error:', response.status_code)\n",
    "    print('Response:', json_result)"
   ]
  }
 ],
 "metadata": {
  "kernelspec": {
   "display_name": "Python 3",
   "language": "python",
   "name": "python3"
  },
  "language_info": {
   "codemirror_mode": {
    "name": "ipython",
    "version": 3
   },
   "file_extension": ".py",
   "mimetype": "text/x-python",
   "name": "python",
   "nbconvert_exporter": "python",
   "pygments_lexer": "ipython3",
   "version": "3.11.5"
  }
 },
 "nbformat": 4,
 "nbformat_minor": 2
}
