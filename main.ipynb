{
 "cells": [
  {
   "cell_type": "code",
   "execution_count": 12,
   "metadata": {},
   "outputs": [],
   "source": [
    "import pandas as pd\n",
    "import numpy as np\n",
    "import json\n",
    "import base64\n",
    "import requests\n",
    "from config.config import Client_ID,Client_Secret\n",
    "#from spotipy.oauth2 import SpotifyClientCredentials\n",
    "import spotipy\n",
    "import spotipy.util as util\n",
    "from requests import post , get\n"
   ]
  },
  {
   "cell_type": "code",
   "execution_count": 15,
   "metadata": {},
   "outputs": [
    {
     "name": "stdout",
     "output_type": "stream",
     "text": [
      "Access Token: alındı\n"
     ]
    }
   ],
   "source": [
    "auth_string = f\"{Client_ID}:{Client_Secret}\"\n",
    "auth_bytes = auth_string.encode(\"utf-8\")\n",
    "auth_base64 = base64.b64encode(auth_bytes).decode(\"utf-8\")\n",
    "\n",
    "url = 'https://accounts.spotify.com/api/token'\n",
    "headers = {\n",
    "    'Authorization': 'Basic ' + auth_base64\n",
    "}\n",
    "data = {\n",
    "    'grant_type': 'client_credentials'\n",
    "}\n",
    "\n",
    "response = requests.post(url, headers=headers, data=data)\n",
    "json_result = response.json()\n",
    "\n",
    "if response.status_code == 200:\n",
    "    token = json_result['access_token']\n",
    "    print('Access Token: alındı')\n",
    "else:\n",
    "    print('Error:', response.status_code)\n",
    "    print('Response:', json_result)"
   ]
  },
  {
   "cell_type": "code",
   "execution_count": null,
   "metadata": {},
   "outputs": [],
   "source": []
  }
 ],
 "metadata": {
  "kernelspec": {
   "display_name": "Python 3",
   "language": "python",
   "name": "python3"
  },
  "language_info": {
   "codemirror_mode": {
    "name": "ipython",
    "version": 3
   },
   "file_extension": ".py",
   "mimetype": "text/x-python",
   "name": "python",
   "nbconvert_exporter": "python",
   "pygments_lexer": "ipython3",
   "version": "3.11.5"
  }
 },
 "nbformat": 4,
 "nbformat_minor": 2
}
