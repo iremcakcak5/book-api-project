{
 "cells": [
  {
   "cell_type": "code",
   "execution_count": 47,
   "metadata": {},
   "outputs": [],
   "source": [
    "import requests\n",
    "import base64\n",
    "from requests import post , get\n",
    "import json\n",
    "from IPython.display import display\n",
    "import matplotlib.pyplot as plt\n",
    "import plotly.express as px\n",
    "import seaborn as sns\n",
    "from config import Client_ID,Client_Secret\n",
    "import pandas as pd"
   ]
  },
  {
   "cell_type": "code",
   "execution_count": 48,
   "metadata": {},
   "outputs": [],
   "source": [
    "#Spotify API isteklerini yetkilendirmek için kullanılan kimlik bilgileri\n",
    "def get_token():\n",
    "    auth_string = f\"{Client_ID}:{Client_Secret}\"\n",
    "    auth_bytes = auth_string.encode(\"utf-8\")\n",
    "    auth_base64 = str(base64.b64encode(auth_bytes).decode(\"utf-8\"))\n",
    "\n",
    "    url = 'https://accounts.spotify.com/api/token'\n",
    "    headers = {\n",
    "        'Authorization': 'Basic ' + auth_base64\n",
    "    }\n",
    "    #token alma\n",
    "    data = {'grant_type': 'client_credentials'}\n",
    "    response = requests.post(url, headers=headers, data=data)\n",
    "    json_result = response.json()\n",
    "\n",
    "    if response.status_code == 200:\n",
    "        token = json_result['access_token']\n",
    "        print('Access Token: alındı'+ \" \"+token)\n",
    "        return token\n",
    "    else:\n",
    "        print('Error:', response.status_code)\n",
    "        print('Response:', json_result)\n",
    "        return None"
   ]
  },
  {
   "cell_type": "code",
   "execution_count": 49,
   "metadata": {},
   "outputs": [
    {
     "name": "stdout",
     "output_type": "stream",
     "text": [
      "Access Token: alındı BQD1TI_lhPZIflqQzH_doQ91oM_JGqOXBxSDgjktsSnzIMWOSWWPsZlB2wNbWiaKCKeNOCojrhGj88hKazsLvbCcJgPb0Sf7bnlhtheRpYZVHr8vfIM\n"
     ]
    }
   ],
   "source": [
    "#authorization\n",
    "def get_auth(token):\n",
    "     return{ 'Authorization': 'Bearer ' + token}\n",
    "#Erişim token'ını almak için get_token fonksiyonunu kullanılır.\n",
    "token=get_token()"
   ]
  },
  {
   "cell_type": "code",
   "execution_count": 50,
   "metadata": {},
   "outputs": [
    {
     "data": {
      "text/html": [
       "<div>\n",
       "<style scoped>\n",
       "    .dataframe tbody tr th:only-of-type {\n",
       "        vertical-align: middle;\n",
       "    }\n",
       "\n",
       "    .dataframe tbody tr th {\n",
       "        vertical-align: top;\n",
       "    }\n",
       "\n",
       "    .dataframe thead th {\n",
       "        text-align: right;\n",
       "    }\n",
       "</style>\n",
       "<table border=\"1\" class=\"dataframe\">\n",
       "  <thead>\n",
       "    <tr style=\"text-align: right;\">\n",
       "      <th></th>\n",
       "      <th>Playlist_owner_id</th>\n",
       "      <th>Playlist_name</th>\n",
       "      <th>Playlist_id</th>\n",
       "      <th>Number_of_songs</th>\n",
       "      <th>Playlist_uri</th>\n",
       "    </tr>\n",
       "  </thead>\n",
       "  <tbody>\n",
       "    <tr>\n",
       "      <th>0</th>\n",
       "      <td>31rmq7qts5n52ox2si25ead5iqaq</td>\n",
       "      <td>2. Karışık</td>\n",
       "      <td>2gEpmDLiL0RiG86dtYd7Cc</td>\n",
       "      <td>44</td>\n",
       "      <td>spotify:playlist:2gEpmDLiL0RiG86dtYd7Cc</td>\n",
       "    </tr>\n",
       "    <tr>\n",
       "      <th>1</th>\n",
       "      <td>31rmq7qts5n52ox2si25ead5iqaq</td>\n",
       "      <td>1. Çalma Listem</td>\n",
       "      <td>7lGk615a7j3e1NqStHea9r</td>\n",
       "      <td>29</td>\n",
       "      <td>spotify:playlist:7lGk615a7j3e1NqStHea9r</td>\n",
       "    </tr>\n",
       "  </tbody>\n",
       "</table>\n",
       "</div>"
      ],
      "text/plain": [
       "              Playlist_owner_id    Playlist_name             Playlist_id  \\\n",
       "0  31rmq7qts5n52ox2si25ead5iqaq       2. Karışık  2gEpmDLiL0RiG86dtYd7Cc   \n",
       "1  31rmq7qts5n52ox2si25ead5iqaq  1. Çalma Listem  7lGk615a7j3e1NqStHea9r   \n",
       "\n",
       "   Number_of_songs                             Playlist_uri  \n",
       "0               44  spotify:playlist:2gEpmDLiL0RiG86dtYd7Cc  \n",
       "1               29  spotify:playlist:7lGk615a7j3e1NqStHea9r  "
      ]
     },
     "execution_count": 50,
     "metadata": {},
     "output_type": "execute_result"
    }
   ],
   "source": [
    "def get_user_playlists(token, user_id):\n",
    "    # Kullanıcıya ait çalma listesi getiren fonksiyon\n",
    "    url = f\"https://api.spotify.com/v1/users/{user_id}/playlists\"\n",
    "    headers=get_auth(token)\n",
    "\n",
    "    response = requests.get(url, headers=headers)\n",
    "\n",
    "    if response.status_code == 200:\n",
    "        json_response = response.json()\n",
    "        playlist_dt = response.json()\n",
    "        return playlist_dt.get('items', [])\n",
    "    else:\n",
    "        print('Error:', response.status_code)\n",
    "        print('Response:', response.json())\n",
    "        return None\n",
    "\n",
    "user_id='31rmq7qts5n52ox2si25ead5iqaq'\n",
    "playlist_dt=get_user_playlists(token,user_id)\n",
    "\n",
    "# Tüm çalma listelerini depolamak için \n",
    "all_playlists = {'Playlist_owner_id':[], 'Playlist_name':[], 'Playlist_id':[], 'Number_of_songs':[],'Playlist_uri':[]}\n",
    "\n",
    "# #Çalma listesi varsa\n",
    "# if response.status_code == 200:\n",
    "#     for playlist in json_result['items']:\n",
    "#         print('Playlist ID:', playlist['id'])\n",
    "#         print('Playlist Name:', playlist['name'])\n",
    "#         print('Playlist URI:', playlist['uri'])\n",
    "#         print('Playlist Owner ID:', playlist['owner']['id'])\n",
    "#         print('-----------------------------')\n",
    "# else:\n",
    "#     print('Error:', response.status_code)\n",
    "#     print('Response:', json_result)\n",
    "\n",
    "if playlist_dt:\n",
    "    # Her çalma listesi için gerekli bilgileri çıkart\n",
    "    for playlist in playlist_dt:\n",
    "        all_playlists['Playlist_id'].append(playlist['id'])\n",
    "        all_playlists['Playlist_name'].append(playlist['name'])\n",
    "        all_playlists['Number_of_songs'].append(playlist['tracks']['total'])\n",
    "        all_playlists['Playlist_uri'].append(playlist['uri'])\n",
    "        all_playlists['Playlist_owner_id'].append(playlist['owner']['id'])\n",
    "\n",
    "# Elde edilen bilgileri DataFrame'e dönüştürma\n",
    "all_playlists_df = pd.DataFrame(all_playlists)\n",
    "\n",
    "all_playlists_df\n"
   ]
  },
  {
   "cell_type": "code",
   "execution_count": 51,
   "metadata": {},
   "outputs": [
    {
     "name": "stdout",
     "output_type": "stream",
     "text": [
      "2gEpmDLiL0RiG86dtYd7Cc\n",
      "7lGk615a7j3e1NqStHea9r\n"
     ]
    }
   ],
   "source": [
    "def get_playlist_artists(token,playlist_id):\n",
    "    # Çalma listesindeki parçaları alma\n",
    "    url = f'https://api.spotify.com/v1/playlists/{playlist_id}/tracks'\n",
    "    headers = get_auth(token)\n",
    "    response = requests.get(url, headers=headers)\n",
    "\n",
    "    if response.status_code == 200:\n",
    "        tracks = response.json()\n",
    "        return tracks.get('items', [])\n",
    "\n",
    "    else:\n",
    "        print('Error:', response.status_code)\n",
    "        print('Response:', response.json())\n",
    "        return None\n",
    "    \n",
    "\n",
    "#Çalma listesi id alma\n",
    "for playlist_id in all_playlists_df['Playlist_id']:\n",
    " print(playlist_id)\n",
    "\n"
   ]
  },
  {
   "cell_type": "code",
   "execution_count": 52,
   "metadata": {},
   "outputs": [
    {
     "data": {
      "text/html": [
       "<div>\n",
       "<style scoped>\n",
       "    .dataframe tbody tr th:only-of-type {\n",
       "        vertical-align: middle;\n",
       "    }\n",
       "\n",
       "    .dataframe tbody tr th {\n",
       "        vertical-align: top;\n",
       "    }\n",
       "\n",
       "    .dataframe thead th {\n",
       "        text-align: right;\n",
       "    }\n",
       "</style>\n",
       "<table border=\"1\" class=\"dataframe\">\n",
       "  <thead>\n",
       "    <tr style=\"text-align: right;\">\n",
       "      <th></th>\n",
       "      <th>Name</th>\n",
       "      <th>id</th>\n",
       "      <th>Artist</th>\n",
       "      <th>Duration</th>\n",
       "      <th>Release_date</th>\n",
       "      <th>Popularity</th>\n",
       "    </tr>\n",
       "  </thead>\n",
       "  <tbody>\n",
       "    <tr>\n",
       "      <th>0</th>\n",
       "      <td>Seninle Ben</td>\n",
       "      <td>3W6rKNbovssiDHqIcXBjlk</td>\n",
       "      <td>Gökhan Türkmen</td>\n",
       "      <td>279005</td>\n",
       "      <td>2023-12-27T12:23:02Z</td>\n",
       "      <td>53</td>\n",
       "    </tr>\n",
       "    <tr>\n",
       "      <th>1</th>\n",
       "      <td>Seninle Ben</td>\n",
       "      <td>4mlnEk7KKXiUweyqwwTEjf</td>\n",
       "      <td>Ayna</td>\n",
       "      <td>333760</td>\n",
       "      <td>2023-12-27T12:23:05Z</td>\n",
       "      <td>18</td>\n",
       "    </tr>\n",
       "    <tr>\n",
       "      <th>2</th>\n",
       "      <td>Aşkın Kederi</td>\n",
       "      <td>4tA6mbvO5vzFg9S87s3fcC</td>\n",
       "      <td>Manuş Baba</td>\n",
       "      <td>229960</td>\n",
       "      <td>2023-12-27T12:23:13Z</td>\n",
       "      <td>46</td>\n",
       "    </tr>\n",
       "    <tr>\n",
       "      <th>3</th>\n",
       "      <td>Susma</td>\n",
       "      <td>5Q4OWZdBISVfWjbtRpIeiB</td>\n",
       "      <td>Aşkın Nur Yengi</td>\n",
       "      <td>324826</td>\n",
       "      <td>2023-12-27T12:23:14Z</td>\n",
       "      <td>41</td>\n",
       "    </tr>\n",
       "    <tr>\n",
       "      <th>4</th>\n",
       "      <td>Pamuk</td>\n",
       "      <td>5e84hFQxrRDXsZwScxNIak</td>\n",
       "      <td>Kenan Doğulu</td>\n",
       "      <td>239133</td>\n",
       "      <td>2023-12-27T12:23:16Z</td>\n",
       "      <td>39</td>\n",
       "    </tr>\n",
       "    <tr>\n",
       "      <th>...</th>\n",
       "      <td>...</td>\n",
       "      <td>...</td>\n",
       "      <td>...</td>\n",
       "      <td>...</td>\n",
       "      <td>...</td>\n",
       "      <td>...</td>\n",
       "    </tr>\n",
       "    <tr>\n",
       "      <th>68</th>\n",
       "      <td>Sadece</td>\n",
       "      <td>5PBCWGudD3lw0Qhk7jLMUo</td>\n",
       "      <td>Kalben</td>\n",
       "      <td>175996</td>\n",
       "      <td>2023-12-27T12:24:28Z</td>\n",
       "      <td>66</td>\n",
       "    </tr>\n",
       "    <tr>\n",
       "      <th>69</th>\n",
       "      <td>Kısa Mesafe</td>\n",
       "      <td>7AeN1Miu6Io3ewNUdBzhyy</td>\n",
       "      <td>Rafat Hasanlı</td>\n",
       "      <td>147497</td>\n",
       "      <td>2023-12-27T12:24:38Z</td>\n",
       "      <td>68</td>\n",
       "    </tr>\n",
       "    <tr>\n",
       "      <th>70</th>\n",
       "      <td>Giderdi Hoşuma</td>\n",
       "      <td>7LXZEyI1ke06UnmuwG4P8d</td>\n",
       "      <td>Yaşlı Amca</td>\n",
       "      <td>220530</td>\n",
       "      <td>2023-12-27T12:24:41Z</td>\n",
       "      <td>64</td>\n",
       "    </tr>\n",
       "    <tr>\n",
       "      <th>71</th>\n",
       "      <td>Galiba - Orijinal Rap Versiyon</td>\n",
       "      <td>6uuQZFYzeUf1NR5tucdjj5</td>\n",
       "      <td>Sagopa Kajmer</td>\n",
       "      <td>300506</td>\n",
       "      <td>2023-12-27T12:24:41Z</td>\n",
       "      <td>64</td>\n",
       "    </tr>\n",
       "    <tr>\n",
       "      <th>72</th>\n",
       "      <td>Anıları Sakla</td>\n",
       "      <td>5035Pnz4KHUNX6Hhk4A2H5</td>\n",
       "      <td>Batuhan Kordel</td>\n",
       "      <td>216789</td>\n",
       "      <td>2023-12-27T12:24:41Z</td>\n",
       "      <td>62</td>\n",
       "    </tr>\n",
       "  </tbody>\n",
       "</table>\n",
       "<p>73 rows × 6 columns</p>\n",
       "</div>"
      ],
      "text/plain": [
       "                              Name                      id           Artist  \\\n",
       "0                      Seninle Ben  3W6rKNbovssiDHqIcXBjlk   Gökhan Türkmen   \n",
       "1                      Seninle Ben  4mlnEk7KKXiUweyqwwTEjf             Ayna   \n",
       "2                     Aşkın Kederi  4tA6mbvO5vzFg9S87s3fcC       Manuş Baba   \n",
       "3                            Susma  5Q4OWZdBISVfWjbtRpIeiB  Aşkın Nur Yengi   \n",
       "4                            Pamuk  5e84hFQxrRDXsZwScxNIak     Kenan Doğulu   \n",
       "..                             ...                     ...              ...   \n",
       "68                          Sadece  5PBCWGudD3lw0Qhk7jLMUo           Kalben   \n",
       "69                     Kısa Mesafe  7AeN1Miu6Io3ewNUdBzhyy    Rafat Hasanlı   \n",
       "70                  Giderdi Hoşuma  7LXZEyI1ke06UnmuwG4P8d       Yaşlı Amca   \n",
       "71  Galiba - Orijinal Rap Versiyon  6uuQZFYzeUf1NR5tucdjj5    Sagopa Kajmer   \n",
       "72                   Anıları Sakla  5035Pnz4KHUNX6Hhk4A2H5   Batuhan Kordel   \n",
       "\n",
       "    Duration          Release_date  Popularity  \n",
       "0     279005  2023-12-27T12:23:02Z          53  \n",
       "1     333760  2023-12-27T12:23:05Z          18  \n",
       "2     229960  2023-12-27T12:23:13Z          46  \n",
       "3     324826  2023-12-27T12:23:14Z          41  \n",
       "4     239133  2023-12-27T12:23:16Z          39  \n",
       "..       ...                   ...         ...  \n",
       "68    175996  2023-12-27T12:24:28Z          66  \n",
       "69    147497  2023-12-27T12:24:38Z          68  \n",
       "70    220530  2023-12-27T12:24:41Z          64  \n",
       "71    300506  2023-12-27T12:24:41Z          64  \n",
       "72    216789  2023-12-27T12:24:41Z          62  \n",
       "\n",
       "[73 rows x 6 columns]"
      ]
     },
     "execution_count": 52,
     "metadata": {},
     "output_type": "execute_result"
    }
   ],
   "source": [
    "#Çalma listesindeki her veriyi depolamak için\n",
    "playlists_item={'Name':[],'id':[] ,'Artist':[], 'Duration':[], 'Release_date':[], 'Popularity':[]}\n",
    "\n",
    "#Playlistesindeki verileri alma\n",
    "for playlist_id in all_playlists_df['Playlist_id']:\n",
    "    play_tracks=get_playlist_artists(token,playlist_id)\n",
    "\n",
    "\n",
    "    if play_tracks:\n",
    "            for track in play_tracks:\n",
    "             playlists_item['Name'].append(track['track']['name'])\n",
    "             playlists_item['Artist'].append(track['track']['artists'][0]['name'])\n",
    "             playlists_item['Duration'].append(track['track']['duration_ms'])\n",
    "             playlists_item['Release_date'].append(track['added_at'])\n",
    "             playlists_item['id'].append(track['track']['id'])\n",
    "             playlists_item['Popularity'].append(track['track']['popularity'])\n",
    "\n",
    "#DataFrame çevğrme\n",
    "playlists_item_df =pd.DataFrame(playlists_item)\n",
    "playlists_item_df\n",
    "\n",
    "            "
   ]
  },
  {
   "cell_type": "markdown",
   "metadata": {},
   "source": [
    "#### Şarkı Ses Özellikleri alma"
   ]
  },
  {
   "cell_type": "code",
   "execution_count": 53,
   "metadata": {},
   "outputs": [],
   "source": [
    "#Şarkılardaki ses özelliklerini alma\n",
    "def get_audio_features(token,song_id):\n",
    " \n",
    "    url = 'https://api.spotify.com/v1/audio-features'\n",
    "    headers = get_auth(token)\n",
    "    params = {'ids': song_id}\n",
    "\n",
    "    response = requests.get(url, headers=headers,params=params)\n",
    "\n",
    "    if response.status_code == 200:\n",
    "        tracks = response.json()\n",
    "        return tracks['audio_features']\n",
    "    else:\n",
    "        print('Error:', response.status_code)\n",
    "        print('Response:', response.json())\n",
    "        return None\n",
    "    "
   ]
  },
  {
   "cell_type": "code",
   "execution_count": 54,
   "metadata": {},
   "outputs": [],
   "source": [
    "#ses özelliklerini depolamak için sözlük oluştutma\n",
    "audio_features={'Danceability':[], 'Energy':[], 'Instrumentalness':[], 'Loudness':[], 'Liveness':[], 'Speechiness':[],'Tempo':[],'Valence':[],'Time_signature':[],'Acousticness':[],'mode':[],'id':[]}"
   ]
  },
  {
   "cell_type": "code",
   "execution_count": 55,
   "metadata": {},
   "outputs": [
    {
     "data": {
      "text/html": [
       "<div>\n",
       "<style scoped>\n",
       "    .dataframe tbody tr th:only-of-type {\n",
       "        vertical-align: middle;\n",
       "    }\n",
       "\n",
       "    .dataframe tbody tr th {\n",
       "        vertical-align: top;\n",
       "    }\n",
       "\n",
       "    .dataframe thead th {\n",
       "        text-align: right;\n",
       "    }\n",
       "</style>\n",
       "<table border=\"1\" class=\"dataframe\">\n",
       "  <thead>\n",
       "    <tr style=\"text-align: right;\">\n",
       "      <th></th>\n",
       "      <th>Danceability</th>\n",
       "      <th>Energy</th>\n",
       "      <th>Instrumentalness</th>\n",
       "      <th>Loudness</th>\n",
       "      <th>Liveness</th>\n",
       "      <th>Speechiness</th>\n",
       "      <th>Tempo</th>\n",
       "      <th>Valence</th>\n",
       "      <th>Time_signature</th>\n",
       "      <th>Acousticness</th>\n",
       "      <th>mode</th>\n",
       "      <th>id</th>\n",
       "    </tr>\n",
       "  </thead>\n",
       "  <tbody>\n",
       "    <tr>\n",
       "      <th>0</th>\n",
       "      <td>0.373</td>\n",
       "      <td>0.480</td>\n",
       "      <td>0.000035</td>\n",
       "      <td>-8.057</td>\n",
       "      <td>0.1300</td>\n",
       "      <td>0.0283</td>\n",
       "      <td>61.372</td>\n",
       "      <td>0.440</td>\n",
       "      <td>4</td>\n",
       "      <td>0.134</td>\n",
       "      <td>0</td>\n",
       "      <td>3W6rKNbovssiDHqIcXBjlk</td>\n",
       "    </tr>\n",
       "    <tr>\n",
       "      <th>1</th>\n",
       "      <td>0.309</td>\n",
       "      <td>0.666</td>\n",
       "      <td>0.000015</td>\n",
       "      <td>-6.698</td>\n",
       "      <td>0.3140</td>\n",
       "      <td>0.0385</td>\n",
       "      <td>180.216</td>\n",
       "      <td>0.176</td>\n",
       "      <td>3</td>\n",
       "      <td>0.231</td>\n",
       "      <td>0</td>\n",
       "      <td>4mlnEk7KKXiUweyqwwTEjf</td>\n",
       "    </tr>\n",
       "    <tr>\n",
       "      <th>2</th>\n",
       "      <td>0.560</td>\n",
       "      <td>0.414</td>\n",
       "      <td>0.007240</td>\n",
       "      <td>-7.625</td>\n",
       "      <td>0.0811</td>\n",
       "      <td>0.0254</td>\n",
       "      <td>81.026</td>\n",
       "      <td>0.248</td>\n",
       "      <td>4</td>\n",
       "      <td>0.878</td>\n",
       "      <td>0</td>\n",
       "      <td>4tA6mbvO5vzFg9S87s3fcC</td>\n",
       "    </tr>\n",
       "    <tr>\n",
       "      <th>3</th>\n",
       "      <td>0.591</td>\n",
       "      <td>0.291</td>\n",
       "      <td>0.000000</td>\n",
       "      <td>-16.147</td>\n",
       "      <td>0.1570</td>\n",
       "      <td>0.0360</td>\n",
       "      <td>75.674</td>\n",
       "      <td>0.137</td>\n",
       "      <td>4</td>\n",
       "      <td>0.238</td>\n",
       "      <td>0</td>\n",
       "      <td>5Q4OWZdBISVfWjbtRpIeiB</td>\n",
       "    </tr>\n",
       "    <tr>\n",
       "      <th>4</th>\n",
       "      <td>0.483</td>\n",
       "      <td>0.328</td>\n",
       "      <td>0.000000</td>\n",
       "      <td>-10.986</td>\n",
       "      <td>0.1410</td>\n",
       "      <td>0.0581</td>\n",
       "      <td>69.204</td>\n",
       "      <td>0.321</td>\n",
       "      <td>4</td>\n",
       "      <td>0.499</td>\n",
       "      <td>0</td>\n",
       "      <td>5e84hFQxrRDXsZwScxNIak</td>\n",
       "    </tr>\n",
       "  </tbody>\n",
       "</table>\n",
       "</div>"
      ],
      "text/plain": [
       "   Danceability  Energy  Instrumentalness  Loudness  Liveness  Speechiness  \\\n",
       "0         0.373   0.480          0.000035    -8.057    0.1300       0.0283   \n",
       "1         0.309   0.666          0.000015    -6.698    0.3140       0.0385   \n",
       "2         0.560   0.414          0.007240    -7.625    0.0811       0.0254   \n",
       "3         0.591   0.291          0.000000   -16.147    0.1570       0.0360   \n",
       "4         0.483   0.328          0.000000   -10.986    0.1410       0.0581   \n",
       "\n",
       "     Tempo  Valence  Time_signature  Acousticness  mode  \\\n",
       "0   61.372    0.440               4         0.134     0   \n",
       "1  180.216    0.176               3         0.231     0   \n",
       "2   81.026    0.248               4         0.878     0   \n",
       "3   75.674    0.137               4         0.238     0   \n",
       "4   69.204    0.321               4         0.499     0   \n",
       "\n",
       "                       id  \n",
       "0  3W6rKNbovssiDHqIcXBjlk  \n",
       "1  4mlnEk7KKXiUweyqwwTEjf  \n",
       "2  4tA6mbvO5vzFg9S87s3fcC  \n",
       "3  5Q4OWZdBISVfWjbtRpIeiB  \n",
       "4  5e84hFQxrRDXsZwScxNIak  "
      ]
     },
     "execution_count": 55,
     "metadata": {},
     "output_type": "execute_result"
    }
   ],
   "source": [
    "#her şarkı için ses özelliklerini  alma\n",
    "for song_id  in playlists_item_df['id']:\n",
    "    song_feat=get_audio_features(token,song_id)\n",
    "\n",
    "\n",
    "    if song_feat:\n",
    "            for features in song_feat:\n",
    "             audio_features['Danceability'].append(features['danceability'])\n",
    "             audio_features['Energy'].append(features['energy'])\n",
    "             audio_features['Instrumentalness'].append(features['instrumentalness'])\n",
    "             audio_features['Loudness'].append(features['loudness'])\n",
    "             audio_features['Liveness'].append(features['liveness'])\n",
    "             audio_features['Speechiness'].append(features['speechiness'])\n",
    "             audio_features['Tempo'].append(features['tempo'])\n",
    "             audio_features['Valence'].append(features['valence'])\n",
    "             audio_features['Time_signature'].append(features['time_signature'])\n",
    "             audio_features['Acousticness'].append(features['acousticness'])\n",
    "             audio_features['mode'].append(features['mode'])\n",
    "             audio_features['id'].append(features['id'])\n",
    "            \n",
    "#DataFrame çevirme\n",
    "audio_features_df =pd.DataFrame(audio_features)\n",
    "audio_features_df.head()"
   ]
  },
  {
   "cell_type": "markdown",
   "metadata": {},
   "source": [
    "#### ID'lere göre şarkı bilgilerini birleştime"
   ]
  },
  {
   "cell_type": "code",
   "execution_count": 56,
   "metadata": {},
   "outputs": [
    {
     "data": {
      "text/html": [
       "<div>\n",
       "<style scoped>\n",
       "    .dataframe tbody tr th:only-of-type {\n",
       "        vertical-align: middle;\n",
       "    }\n",
       "\n",
       "    .dataframe tbody tr th {\n",
       "        vertical-align: top;\n",
       "    }\n",
       "\n",
       "    .dataframe thead th {\n",
       "        text-align: right;\n",
       "    }\n",
       "</style>\n",
       "<table border=\"1\" class=\"dataframe\">\n",
       "  <thead>\n",
       "    <tr style=\"text-align: right;\">\n",
       "      <th></th>\n",
       "      <th>Name</th>\n",
       "      <th>id</th>\n",
       "      <th>Artist</th>\n",
       "      <th>Duration</th>\n",
       "      <th>Release_date</th>\n",
       "      <th>Popularity</th>\n",
       "      <th>Danceability</th>\n",
       "      <th>Energy</th>\n",
       "      <th>Instrumentalness</th>\n",
       "      <th>Loudness</th>\n",
       "      <th>Liveness</th>\n",
       "      <th>Speechiness</th>\n",
       "      <th>Tempo</th>\n",
       "      <th>Valence</th>\n",
       "      <th>Time_signature</th>\n",
       "      <th>Acousticness</th>\n",
       "      <th>mode</th>\n",
       "    </tr>\n",
       "  </thead>\n",
       "  <tbody>\n",
       "    <tr>\n",
       "      <th>0</th>\n",
       "      <td>Seninle Ben</td>\n",
       "      <td>3W6rKNbovssiDHqIcXBjlk</td>\n",
       "      <td>Gökhan Türkmen</td>\n",
       "      <td>279005</td>\n",
       "      <td>2023-12-27T12:23:02Z</td>\n",
       "      <td>53</td>\n",
       "      <td>0.373</td>\n",
       "      <td>0.480</td>\n",
       "      <td>0.000035</td>\n",
       "      <td>-8.057</td>\n",
       "      <td>0.1300</td>\n",
       "      <td>0.0283</td>\n",
       "      <td>61.372</td>\n",
       "      <td>0.440</td>\n",
       "      <td>4</td>\n",
       "      <td>0.134</td>\n",
       "      <td>0</td>\n",
       "    </tr>\n",
       "    <tr>\n",
       "      <th>1</th>\n",
       "      <td>Seninle Ben</td>\n",
       "      <td>4mlnEk7KKXiUweyqwwTEjf</td>\n",
       "      <td>Ayna</td>\n",
       "      <td>333760</td>\n",
       "      <td>2023-12-27T12:23:05Z</td>\n",
       "      <td>18</td>\n",
       "      <td>0.309</td>\n",
       "      <td>0.666</td>\n",
       "      <td>0.000015</td>\n",
       "      <td>-6.698</td>\n",
       "      <td>0.3140</td>\n",
       "      <td>0.0385</td>\n",
       "      <td>180.216</td>\n",
       "      <td>0.176</td>\n",
       "      <td>3</td>\n",
       "      <td>0.231</td>\n",
       "      <td>0</td>\n",
       "    </tr>\n",
       "    <tr>\n",
       "      <th>2</th>\n",
       "      <td>Aşkın Kederi</td>\n",
       "      <td>4tA6mbvO5vzFg9S87s3fcC</td>\n",
       "      <td>Manuş Baba</td>\n",
       "      <td>229960</td>\n",
       "      <td>2023-12-27T12:23:13Z</td>\n",
       "      <td>46</td>\n",
       "      <td>0.560</td>\n",
       "      <td>0.414</td>\n",
       "      <td>0.007240</td>\n",
       "      <td>-7.625</td>\n",
       "      <td>0.0811</td>\n",
       "      <td>0.0254</td>\n",
       "      <td>81.026</td>\n",
       "      <td>0.248</td>\n",
       "      <td>4</td>\n",
       "      <td>0.878</td>\n",
       "      <td>0</td>\n",
       "    </tr>\n",
       "    <tr>\n",
       "      <th>3</th>\n",
       "      <td>Susma</td>\n",
       "      <td>5Q4OWZdBISVfWjbtRpIeiB</td>\n",
       "      <td>Aşkın Nur Yengi</td>\n",
       "      <td>324826</td>\n",
       "      <td>2023-12-27T12:23:14Z</td>\n",
       "      <td>41</td>\n",
       "      <td>0.591</td>\n",
       "      <td>0.291</td>\n",
       "      <td>0.000000</td>\n",
       "      <td>-16.147</td>\n",
       "      <td>0.1570</td>\n",
       "      <td>0.0360</td>\n",
       "      <td>75.674</td>\n",
       "      <td>0.137</td>\n",
       "      <td>4</td>\n",
       "      <td>0.238</td>\n",
       "      <td>0</td>\n",
       "    </tr>\n",
       "    <tr>\n",
       "      <th>4</th>\n",
       "      <td>Pamuk</td>\n",
       "      <td>5e84hFQxrRDXsZwScxNIak</td>\n",
       "      <td>Kenan Doğulu</td>\n",
       "      <td>239133</td>\n",
       "      <td>2023-12-27T12:23:16Z</td>\n",
       "      <td>39</td>\n",
       "      <td>0.483</td>\n",
       "      <td>0.328</td>\n",
       "      <td>0.000000</td>\n",
       "      <td>-10.986</td>\n",
       "      <td>0.1410</td>\n",
       "      <td>0.0581</td>\n",
       "      <td>69.204</td>\n",
       "      <td>0.321</td>\n",
       "      <td>4</td>\n",
       "      <td>0.499</td>\n",
       "      <td>0</td>\n",
       "    </tr>\n",
       "  </tbody>\n",
       "</table>\n",
       "</div>"
      ],
      "text/plain": [
       "           Name                      id           Artist  Duration  \\\n",
       "0   Seninle Ben  3W6rKNbovssiDHqIcXBjlk   Gökhan Türkmen    279005   \n",
       "1   Seninle Ben  4mlnEk7KKXiUweyqwwTEjf             Ayna    333760   \n",
       "2  Aşkın Kederi  4tA6mbvO5vzFg9S87s3fcC       Manuş Baba    229960   \n",
       "3         Susma  5Q4OWZdBISVfWjbtRpIeiB  Aşkın Nur Yengi    324826   \n",
       "4         Pamuk  5e84hFQxrRDXsZwScxNIak     Kenan Doğulu    239133   \n",
       "\n",
       "           Release_date  Popularity  Danceability  Energy  Instrumentalness  \\\n",
       "0  2023-12-27T12:23:02Z          53         0.373   0.480          0.000035   \n",
       "1  2023-12-27T12:23:05Z          18         0.309   0.666          0.000015   \n",
       "2  2023-12-27T12:23:13Z          46         0.560   0.414          0.007240   \n",
       "3  2023-12-27T12:23:14Z          41         0.591   0.291          0.000000   \n",
       "4  2023-12-27T12:23:16Z          39         0.483   0.328          0.000000   \n",
       "\n",
       "   Loudness  Liveness  Speechiness    Tempo  Valence  Time_signature  \\\n",
       "0    -8.057    0.1300       0.0283   61.372    0.440               4   \n",
       "1    -6.698    0.3140       0.0385  180.216    0.176               3   \n",
       "2    -7.625    0.0811       0.0254   81.026    0.248               4   \n",
       "3   -16.147    0.1570       0.0360   75.674    0.137               4   \n",
       "4   -10.986    0.1410       0.0581   69.204    0.321               4   \n",
       "\n",
       "   Acousticness  mode  \n",
       "0         0.134     0  \n",
       "1         0.231     0  \n",
       "2         0.878     0  \n",
       "3         0.238     0  \n",
       "4         0.499     0  "
      ]
     },
     "execution_count": 56,
     "metadata": {},
     "output_type": "execute_result"
    }
   ],
   "source": [
    "df = pd.merge(playlists_item_df, audio_features_df, on='id', how='inner')\n",
    "df.head()"
   ]
  },
  {
   "cell_type": "code",
   "execution_count": 57,
   "metadata": {},
   "outputs": [],
   "source": [
    "# Birleştirilmiş DataFrame'i CSV dosyasına kaydetme\n",
    "df.to_csv('spotify.csv', index=False)"
   ]
  },
  {
   "cell_type": "markdown",
   "metadata": {},
   "source": [
    "## Şarkı verilerinden görsel elde etme"
   ]
  },
  {
   "cell_type": "code",
   "execution_count": 58,
   "metadata": {},
   "outputs": [
    {
     "data": {
      "text/html": [
       "<div>\n",
       "<style scoped>\n",
       "    .dataframe tbody tr th:only-of-type {\n",
       "        vertical-align: middle;\n",
       "    }\n",
       "\n",
       "    .dataframe tbody tr th {\n",
       "        vertical-align: top;\n",
       "    }\n",
       "\n",
       "    .dataframe thead th {\n",
       "        text-align: right;\n",
       "    }\n",
       "</style>\n",
       "<table border=\"1\" class=\"dataframe\">\n",
       "  <thead>\n",
       "    <tr style=\"text-align: right;\">\n",
       "      <th></th>\n",
       "      <th>Name</th>\n",
       "      <th>id</th>\n",
       "      <th>Artist</th>\n",
       "      <th>Duration</th>\n",
       "      <th>Release_date</th>\n",
       "      <th>Popularity</th>\n",
       "    </tr>\n",
       "  </thead>\n",
       "  <tbody>\n",
       "    <tr>\n",
       "      <th>0</th>\n",
       "      <td>Seninle Ben</td>\n",
       "      <td>3W6rKNbovssiDHqIcXBjlk</td>\n",
       "      <td>Gökhan Türkmen</td>\n",
       "      <td>279005</td>\n",
       "      <td>2023-12-27T12:23:02Z</td>\n",
       "      <td>53</td>\n",
       "    </tr>\n",
       "    <tr>\n",
       "      <th>1</th>\n",
       "      <td>Seninle Ben</td>\n",
       "      <td>4mlnEk7KKXiUweyqwwTEjf</td>\n",
       "      <td>Ayna</td>\n",
       "      <td>333760</td>\n",
       "      <td>2023-12-27T12:23:05Z</td>\n",
       "      <td>18</td>\n",
       "    </tr>\n",
       "    <tr>\n",
       "      <th>2</th>\n",
       "      <td>Aşkın Kederi</td>\n",
       "      <td>4tA6mbvO5vzFg9S87s3fcC</td>\n",
       "      <td>Manuş Baba</td>\n",
       "      <td>229960</td>\n",
       "      <td>2023-12-27T12:23:13Z</td>\n",
       "      <td>46</td>\n",
       "    </tr>\n",
       "    <tr>\n",
       "      <th>3</th>\n",
       "      <td>Susma</td>\n",
       "      <td>5Q4OWZdBISVfWjbtRpIeiB</td>\n",
       "      <td>Aşkın Nur Yengi</td>\n",
       "      <td>324826</td>\n",
       "      <td>2023-12-27T12:23:14Z</td>\n",
       "      <td>41</td>\n",
       "    </tr>\n",
       "    <tr>\n",
       "      <th>4</th>\n",
       "      <td>Pamuk</td>\n",
       "      <td>5e84hFQxrRDXsZwScxNIak</td>\n",
       "      <td>Kenan Doğulu</td>\n",
       "      <td>239133</td>\n",
       "      <td>2023-12-27T12:23:16Z</td>\n",
       "      <td>39</td>\n",
       "    </tr>\n",
       "  </tbody>\n",
       "</table>\n",
       "</div>"
      ],
      "text/plain": [
       "           Name                      id           Artist  Duration  \\\n",
       "0   Seninle Ben  3W6rKNbovssiDHqIcXBjlk   Gökhan Türkmen    279005   \n",
       "1   Seninle Ben  4mlnEk7KKXiUweyqwwTEjf             Ayna    333760   \n",
       "2  Aşkın Kederi  4tA6mbvO5vzFg9S87s3fcC       Manuş Baba    229960   \n",
       "3         Susma  5Q4OWZdBISVfWjbtRpIeiB  Aşkın Nur Yengi    324826   \n",
       "4         Pamuk  5e84hFQxrRDXsZwScxNIak     Kenan Doğulu    239133   \n",
       "\n",
       "           Release_date  Popularity  \n",
       "0  2023-12-27T12:23:02Z          53  \n",
       "1  2023-12-27T12:23:05Z          18  \n",
       "2  2023-12-27T12:23:13Z          46  \n",
       "3  2023-12-27T12:23:14Z          41  \n",
       "4  2023-12-27T12:23:16Z          39  "
      ]
     },
     "execution_count": 58,
     "metadata": {},
     "output_type": "execute_result"
    }
   ],
   "source": [
    "spotify.head()"
   ]
  },
  {
   "cell_type": "markdown",
   "metadata": {},
   "source": [
    "##### Çalma listesindeki en popüler şarkılar"
   ]
  },
  {
   "cell_type": "code",
   "execution_count": 59,
   "metadata": {},
   "outputs": [
    {
     "data": {
      "image/png": "[encoded data removed]",
      "text/plain": [
       "<Figure size 5000x600 with 1 Axes>"
      ]
     },
     "metadata": {},
     "output_type": "display_data"
    }
   ],
   "source": [
    "#Bu Çalma Listesindeki Sanatçıya göre 60'tan büyük şarkıların popülaritesi\n",
    "high_po = spotify.loc[ spotify ['Popularity' ] >= 60 ].sort_values( by =[ 'Popularity' ] ,ascending = False) \n",
    "\n",
    "plt.figure(figsize=(50, 6))\n",
    "sns.barplot(x='Artist', y='Popularity', data=high_po)\n",
    "plt.title('Popularity of songs greater than 60 by Artist in this Playlist')\n",
    "plt.xlabel('Artist')\n",
    "plt.ylabel('Popularity')\n",
    "plt.show()"
   ]
  },
  {
   "cell_type": "code",
   "execution_count": 60,
   "metadata": {},
   "outputs": [
    {
     "data": {
      "text/plain": [
       "<Axes: >"
      ]
     },
     "execution_count": 60,
     "metadata": {},
     "output_type": "execute_result"
    },
    {
     "data": {
      "image/png": "[encoded data removed]",
      "text/plain": [
       "<Figure size 640x480 with 2 Axes>"
      ]
     },
     "metadata": {},
     "output_type": "display_data"
    }
   ],
   "source": [
    "sns.heatmap(spotify.isna())\n",
    "#eksik değer olup olmadığını gösteren ısı haritası"
   ]
  },
  {
   "cell_type": "markdown",
   "metadata": {},
   "source": [
    "#### Birleştirilmiş şarkı özellikleirnden görselleştierme"
   ]
  },
  {
   "cell_type": "code",
   "execution_count": 61,
   "metadata": {},
   "outputs": [
    {
     "data": {
      "application/vnd.plotly.v1+json": {
       "config": {
        "plotlyServerURL": "https://plot.ly"
       },
       "data": [
        {
         "hovertemplate": "Tempo=%{x}<br>Danceability=%{y}<br>Popularity=%{marker.color}<extra></extra>",
         "legendgroup": "",
         "marker": {
          "color": [
           53,
           18,
           46,
           41,
           39,
           38,
           39,
           48,
           43,
           41,
           45,
           41,
           44,
           43,
           47,
           32,
           46,
           46,
           43,
           39,
           43,
           40,
           45,
           42,
           46,
           42,
           41,
           43,
           38,
           39,
           41,
           39,
           41,
           41,
           41,
           41,
           41,
           42,
           41,
           41,
           41,
           41,
           39,
           43,
           43,
           36,
           43,
           39,
           77,
           65,
           63,
           60,
           60,
           61,
           63,
           63,
           63,
           61,
           65,
           61,
           62,
           64,
           64,
           63,
           63,
           62,
           65,
           65,
           61,
           62,
           65,
           62,
           66,
           68,
           64,
           64,
           62
          ],
          "coloraxis": "coloraxis",
          "size": [
           53,
           18,
           46,
           41,
           39,
           38,
           39,
           48,
           43,
           41,
           45,
           41,
           44,
           43,
           47,
           32,
           46,
           46,
           43,
           39,
           43,
           40,
           45,
           42,
           46,
           42,
           41,
           43,
           38,
           39,
           41,
           39,
           41,
           41,
           41,
           41,
           41,
           42,
           41,
           41,
           41,
           41,
           39,
           43,
           43,
           36,
           43,
           39,
           77,
           65,
           63,
           60,
           60,
           61,
           63,
           63,
           63,
           61,
           65,
           61,
           62,
           64,
           64,
           63,
           63,
           62,
           65,
           65,
           61,
           62,
           65,
           62,
           66,
           68,
           64,
           64,
           62
          ],
          "sizemode": "area",
          "sizeref": 0.1925,
          "symbol": "circle"
         },
         "mode": "markers",
         "name": "",
         "orientation": "v",
         "showlegend": false,
         "type": "scatter",
         "x": [
          61.372,
          180.216,
          81.026,
          75.674,
          69.204,
          129.863,
          124.009,
          96.989,
          112.277,
          148.317,
          125.053,
          175.835,
          159.922,
          80.104,
          127.91,
          89.865,
          148.056,
          106.722,
          76.008,
          142.878,
          136.24,
          128.15,
          91.008,
          110.045,
          177.714,
          150.246,
          120.189,
          92.032,
          137.448,
          101.972,
          132.025,
          183.845,
          180.1,
          80.303,
          80.303,
          80.303,
          80.303,
          179.981,
          144.122,
          144.122,
          144.122,
          144.122,
          177.836,
          102.057,
          141.49,
          144.124,
          171.988,
          144.655,
          106.046,
          100.038,
          138.348,
          95.024,
          128.024,
          141.868,
          133.914,
          93.998,
          83.464,
          131.912,
          77.759,
          159.856,
          93.997,
          119.976,
          95.975,
          185.986,
          180.035,
          136.017,
          126.016,
          126.992,
          92.035,
          99.985,
          99.96,
          178.063,
          85.793,
          172.069,
          125.006,
          169.962,
          92.018
         ],
         "xaxis": "x",
         "y": [
          0.373,
          0.309,
          0.56,
          0.591,
          0.483,
          0.722,
          0.605,
          0.628,
          0.525,
          0.392,
          0.684,
          0.491,
          0.535,
          0.614,
          0.643,
          0.568,
          0.533,
          0.519,
          0.668,
          0.294,
          0.338,
          0.574,
          0.655,
          0.677,
          0.367,
          0.648,
          0.634,
          0.682,
          0.32,
          0.597,
          0.607,
          0.32,
          0.456,
          0.318,
          0.318,
          0.318,
          0.318,
          0.374,
          0.69,
          0.69,
          0.69,
          0.69,
          0.223,
          0.597,
          0.437,
          0.484,
          0.568,
          0.344,
          0.678,
          0.627,
          0.536,
          0.561,
          0.515,
          0.527,
          0.589,
          0.776,
          0.376,
          0.586,
          0.58,
          0.522,
          0.601,
          0.598,
          0.59,
          0.406,
          0.488,
          0.635,
          0.609,
          0.69,
          0.272,
          0.61,
          0.615,
          0.474,
          0.404,
          0.567,
          0.682,
          0.624,
          0.597
         ],
         "yaxis": "y"
        }
       ],
       "layout": {
        "coloraxis": {
         "colorbar": {
          "title": {
           "text": "Popularity"
          }
         },
         "colorscale": [
          [
           0,
           "#0d0887"
          ],
          [
           0.1111111111111111,
           "#46039f"
          ],
          [
           0.2222222222222222,
           "#7201a8"
          ],
          [
           0.3333333333333333,
           "#9c179e"
          ],
          [
           0.4444444444444444,
           "#bd3786"
          ],
          [
           0.5555555555555556,
           "#d8576b"
          ],
          [
           0.6666666666666666,
           "#ed7953"
          ],
          [
           0.7777777777777778,
           "#fb9f3a"
          ],
          [
           0.8888888888888888,
           "#fdca26"
          ],
          [
           1,
           "#f0f921"
          ]
         ]
        },
        "legend": {
         "itemsizing": "constant",
         "tracegroupgap": 0
        },
        "template": {
         "data": {
          "bar": [
           {
            "error_x": {
             "color": "#2a3f5f"
            },
            "error_y": {
             "color": "#2a3f5f"
            },
            "marker": {
             "line": {
              "color": "#E5ECF6",
              "width": 0.5
             },
             "pattern": {
              "fillmode": "overlay",
              "size": 10,
              "solidity": 0.2
             }
            },
            "type": "bar"
           }
          ],
          "barpolar": [
           {
            "marker": {
             "line": {
              "color": "#E5ECF6",
              "width": 0.5
             },
             "pattern": {
              "fillmode": "overlay",
              "size": 10,
              "solidity": 0.2
             }
            },
            "type": "barpolar"
           }
          ],
          "carpet": [
           {
            "aaxis": {
             "endlinecolor": "#2a3f5f",
             "gridcolor": "white",
             "linecolor": "white",
             "minorgridcolor": "white",
             "startlinecolor": "#2a3f5f"
            },
            "baxis": {
             "endlinecolor": "#2a3f5f",
             "gridcolor": "white",
             "linecolor": "white",
             "minorgridcolor": "white",
             "startlinecolor": "#2a3f5f"
            },
            "type": "carpet"
           }
          ],
          "choropleth": [
           {
            "colorbar": {
             "outlinewidth": 0,
             "ticks": ""
            },
            "type": "choropleth"
           }
          ],
          "contour": [
           {
            "colorbar": {
             "outlinewidth": 0,
             "ticks": ""
            },
            "colorscale": [
             [
              0,
              "#0d0887"
             ],
             [
              0.1111111111111111,
              "#46039f"
             ],
             [
              0.2222222222222222,
              "#7201a8"
             ],
             [
              0.3333333333333333,
              "#9c179e"
             ],
             [
              0.4444444444444444,
              "#bd3786"
             ],
             [
              0.5555555555555556,
              "#d8576b"
             ],
             [
              0.6666666666666666,
              "#ed7953"
             ],
             [
              0.7777777777777778,
              "#fb9f3a"
             ],
             [
              0.8888888888888888,
              "#fdca26"
             ],
             [
              1,
              "#f0f921"
             ]
            ],
            "type": "contour"
           }
          ],
          "contourcarpet": [
           {
            "colorbar": {
             "outlinewidth": 0,
             "ticks": ""
            },
            "type": "contourcarpet"
           }
          ],
          "heatmap": [
           {
            "colorbar": {
             "outlinewidth": 0,
             "ticks": ""
            },
            "colorscale": [
             [
              0,
              "#0d0887"
             ],
             [
              0.1111111111111111,
              "#46039f"
             ],
             [
              0.2222222222222222,
              "#7201a8"
             ],
             [
              0.3333333333333333,
              "#9c179e"
             ],
             [
              0.4444444444444444,
              "#bd3786"
             ],
             [
              0.5555555555555556,
              "#d8576b"
             ],
             [
              0.6666666666666666,
              "#ed7953"
             ],
             [
              0.7777777777777778,
              "#fb9f3a"
             ],
             [
              0.8888888888888888,
              "#fdca26"
             ],
             [
              1,
              "#f0f921"
             ]
            ],
            "type": "heatmap"
           }
          ],
          "heatmapgl": [
           {
            "colorbar": {
             "outlinewidth": 0,
             "ticks": ""
            },
            "colorscale": [
             [
              0,
              "#0d0887"
             ],
             [
              0.1111111111111111,
              "#46039f"
             ],
             [
              0.2222222222222222,
              "#7201a8"
             ],
             [
              0.3333333333333333,
              "#9c179e"
             ],
             [
              0.4444444444444444,
              "#bd3786"
             ],
             [
              0.5555555555555556,
              "#d8576b"
             ],
             [
              0.6666666666666666,
              "#ed7953"
             ],
             [
              0.7777777777777778,
              "#fb9f3a"
             ],
             [
              0.8888888888888888,
              "#fdca26"
             ],
             [
              1,
              "#f0f921"
             ]
            ],
            "type": "heatmapgl"
           }
          ],
          "histogram": [
           {
            "marker": {
             "pattern": {
              "fillmode": "overlay",
              "size": 10,
              "solidity": 0.2
             }
            },
            "type": "histogram"
           }
          ],
          "histogram2d": [
           {
            "colorbar": {
             "outlinewidth": 0,
             "ticks": ""
            },
            "colorscale": [
             [
              0,
              "#0d0887"
             ],
             [
              0.1111111111111111,
              "#46039f"
             ],
             [
              0.2222222222222222,
              "#7201a8"
             ],
             [
              0.3333333333333333,
              "#9c179e"
             ],
             [
              0.4444444444444444,
              "#bd3786"
             ],
             [
              0.5555555555555556,
              "#d8576b"
             ],
             [
              0.6666666666666666,
              "#ed7953"
             ],
             [
              0.7777777777777778,
              "#fb9f3a"
             ],
             [
              0.8888888888888888,
              "#fdca26"
             ],
             [
              1,
              "#f0f921"
             ]
            ],
            "type": "histogram2d"
           }
          ],
          "histogram2dcontour": [
           {
            "colorbar": {
             "outlinewidth": 0,
             "ticks": ""
            },
            "colorscale": [
             [
              0,
              "#0d0887"
             ],
             [
              0.1111111111111111,
              "#46039f"
             ],
             [
              0.2222222222222222,
              "#7201a8"
             ],
             [
              0.3333333333333333,
              "#9c179e"
             ],
             [
              0.4444444444444444,
              "#bd3786"
             ],
             [
              0.5555555555555556,
              "#d8576b"
             ],
             [
              0.6666666666666666,
              "#ed7953"
             ],
             [
              0.7777777777777778,
              "#fb9f3a"
             ],
             [
              0.8888888888888888,
              "#fdca26"
             ],
             [
              1,
              "#f0f921"
             ]
            ],
            "type": "histogram2dcontour"
           }
          ],
          "mesh3d": [
           {
            "colorbar": {
             "outlinewidth": 0,
             "ticks": ""
            },
            "type": "mesh3d"
           }
          ],
          "parcoords": [
           {
            "line": {
             "colorbar": {
              "outlinewidth": 0,
              "ticks": ""
             }
            },
            "type": "parcoords"
           }
          ],
          "pie": [
           {
            "automargin": true,
            "type": "pie"
           }
          ],
          "scatter": [
           {
            "fillpattern": {
             "fillmode": "overlay",
             "size": 10,
             "solidity": 0.2
            },
            "type": "scatter"
           }
          ],
          "scatter3d": [
           {
            "line": {
             "colorbar": {
              "outlinewidth": 0,
              "ticks": ""
             }
            },
            "marker": {
             "colorbar": {
              "outlinewidth": 0,
              "ticks": ""
             }
            },
            "type": "scatter3d"
           }
          ],
          "scattercarpet": [
           {
            "marker": {
             "colorbar": {
              "outlinewidth": 0,
              "ticks": ""
             }
            },
            "type": "scattercarpet"
           }
          ],
          "scattergeo": [
           {
            "marker": {
             "colorbar": {
              "outlinewidth": 0,
              "ticks": ""
             }
            },
            "type": "scattergeo"
           }
          ],
          "scattergl": [
           {
            "marker": {
             "colorbar": {
              "outlinewidth": 0,
              "ticks": ""
             }
            },
            "type": "scattergl"
           }
          ],
          "scattermapbox": [
           {
            "marker": {
             "colorbar": {
              "outlinewidth": 0,
              "ticks": ""
             }
            },
            "type": "scattermapbox"
           }
          ],
          "scatterpolar": [
           {
            "marker": {
             "colorbar": {
              "outlinewidth": 0,
              "ticks": ""
             }
            },
            "type": "scatterpolar"
           }
          ],
          "scatterpolargl": [
           {
            "marker": {
             "colorbar": {
              "outlinewidth": 0,
              "ticks": ""
             }
            },
            "type": "scatterpolargl"
           }
          ],
          "scatterternary": [
           {
            "marker": {
             "colorbar": {
              "outlinewidth": 0,
              "ticks": ""
             }
            },
            "type": "scatterternary"
           }
          ],
          "surface": [
           {
            "colorbar": {
             "outlinewidth": 0,
             "ticks": ""
            },
            "colorscale": [
             [
              0,
              "#0d0887"
             ],
             [
              0.1111111111111111,
              "#46039f"
             ],
             [
              0.2222222222222222,
              "#7201a8"
             ],
             [
              0.3333333333333333,
              "#9c179e"
             ],
             [
              0.4444444444444444,
              "#bd3786"
             ],
             [
              0.5555555555555556,
              "#d8576b"
             ],
             [
              0.6666666666666666,
              "#ed7953"
             ],
             [
              0.7777777777777778,
              "#fb9f3a"
             ],
             [
              0.8888888888888888,
              "#fdca26"
             ],
             [
              1,
              "#f0f921"
             ]
            ],
            "type": "surface"
           }
          ],
          "table": [
           {
            "cells": {
             "fill": {
              "color": "#EBF0F8"
             },
             "line": {
              "color": "white"
             }
            },
            "header": {
             "fill": {
              "color": "#C8D4E3"
             },
             "line": {
              "color": "white"
             }
            },
            "type": "table"
           }
          ]
         },
         "layout": {
          "annotationdefaults": {
           "arrowcolor": "#2a3f5f",
           "arrowhead": 0,
           "arrowwidth": 1
          },
          "autotypenumbers": "strict",
          "coloraxis": {
           "colorbar": {
            "outlinewidth": 0,
            "ticks": ""
           }
          },
          "colorscale": {
           "diverging": [
            [
             0,
             "#8e0152"
            ],
            [
             0.1,
             "#c51b7d"
            ],
            [
             0.2,
             "#de77ae"
            ],
            [
             0.3,
             "#f1b6da"
            ],
            [
             0.4,
             "#fde0ef"
            ],
            [
             0.5,
             "#f7f7f7"
            ],
            [
             0.6,
             "#e6f5d0"
            ],
            [
             0.7,
             "#b8e186"
            ],
            [
             0.8,
             "#7fbc41"
            ],
            [
             0.9,
             "#4d9221"
            ],
            [
             1,
             "#276419"
            ]
           ],
           "sequential": [
            [
             0,
             "#0d0887"
            ],
            [
             0.1111111111111111,
             "#46039f"
            ],
            [
             0.2222222222222222,
             "#7201a8"
            ],
            [
             0.3333333333333333,
             "#9c179e"
            ],
            [
             0.4444444444444444,
             "#bd3786"
            ],
            [
             0.5555555555555556,
             "#d8576b"
            ],
            [
             0.6666666666666666,
             "#ed7953"
            ],
            [
             0.7777777777777778,
             "#fb9f3a"
            ],
            [
             0.8888888888888888,
             "#fdca26"
            ],
            [
             1,
             "#f0f921"
            ]
           ],
           "sequentialminus": [
            [
             0,
             "#0d0887"
            ],
            [
             0.1111111111111111,
             "#46039f"
            ],
            [
             0.2222222222222222,
             "#7201a8"
            ],
            [
             0.3333333333333333,
             "#9c179e"
            ],
            [
             0.4444444444444444,
             "#bd3786"
            ],
            [
             0.5555555555555556,
             "#d8576b"
            ],
            [
             0.6666666666666666,
             "#ed7953"
            ],
            [
             0.7777777777777778,
             "#fb9f3a"
            ],
            [
             0.8888888888888888,
             "#fdca26"
            ],
            [
             1,
             "#f0f921"
            ]
           ]
          },
          "colorway": [
           "#636efa",
           "#EF553B",
           "#00cc96",
           "#ab63fa",
           "#FFA15A",
           "#19d3f3",
           "#FF6692",
           "#B6E880",
           "#FF97FF",
           "#FECB52"
          ],
          "font": {
           "color": "#2a3f5f"
          },
          "geo": {
           "bgcolor": "white",
           "lakecolor": "white",
           "landcolor": "#E5ECF6",
           "showlakes": true,
           "showland": true,
           "subunitcolor": "white"
          },
          "hoverlabel": {
           "align": "left"
          },
          "hovermode": "closest",
          "mapbox": {
           "style": "light"
          },
          "paper_bgcolor": "white",
          "plot_bgcolor": "#E5ECF6",
          "polar": {
           "angularaxis": {
            "gridcolor": "white",
            "linecolor": "white",
            "ticks": ""
           },
           "bgcolor": "#E5ECF6",
           "radialaxis": {
            "gridcolor": "white",
            "linecolor": "white",
            "ticks": ""
           }
          },
          "scene": {
           "xaxis": {
            "backgroundcolor": "#E5ECF6",
            "gridcolor": "white",
            "gridwidth": 2,
            "linecolor": "white",
            "showbackground": true,
            "ticks": "",
            "zerolinecolor": "white"
           },
           "yaxis": {
            "backgroundcolor": "#E5ECF6",
            "gridcolor": "white",
            "gridwidth": 2,
            "linecolor": "white",
            "showbackground": true,
            "ticks": "",
            "zerolinecolor": "white"
           },
           "zaxis": {
            "backgroundcolor": "#E5ECF6",
            "gridcolor": "white",
            "gridwidth": 2,
            "linecolor": "white",
            "showbackground": true,
            "ticks": "",
            "zerolinecolor": "white"
           }
          },
          "shapedefaults": {
           "line": {
            "color": "#2a3f5f"
           }
          },
          "ternary": {
           "aaxis": {
            "gridcolor": "white",
            "linecolor": "white",
            "ticks": ""
           },
           "baxis": {
            "gridcolor": "white",
            "linecolor": "white",
            "ticks": ""
           },
           "bgcolor": "#E5ECF6",
           "caxis": {
            "gridcolor": "white",
            "linecolor": "white",
            "ticks": ""
           }
          },
          "title": {
           "x": 0.05
          },
          "xaxis": {
           "automargin": true,
           "gridcolor": "white",
           "linecolor": "white",
           "ticks": "",
           "title": {
            "standoff": 15
           },
           "zerolinecolor": "white",
           "zerolinewidth": 2
          },
          "yaxis": {
           "automargin": true,
           "gridcolor": "white",
           "linecolor": "white",
           "ticks": "",
           "title": {
            "standoff": 15
           },
           "zerolinecolor": "white",
           "zerolinewidth": 2
          }
         }
        },
        "title": {
         "text": "Dans edilebilirliğe karşı tempo kullanarak popüler şarkıların dağılım grafiği"
        },
        "xaxis": {
         "anchor": "y",
         "domain": [
          0,
          1
         ],
         "title": {
          "text": "Tempo"
         }
        },
        "yaxis": {
         "anchor": "x",
         "domain": [
          0,
          1
         ],
         "title": {
          "text": "Danceability"
         }
        }
       }
      }
     },
     "metadata": {},
     "output_type": "display_data"
    }
   ],
   "source": [
    "fig=px.scatter(df,x=df['Tempo'],y=df['Danceability'],color=df['Popularity'],size=df['Popularity'],\n",
    "               title='Dans edilebilirliğe karşı tempo kullanarak popüler şarkıların dağılım grafiği')\n",
    "fig.show()"
   ]
  },
  {
   "cell_type": "markdown",
   "metadata": {},
   "source": [
    "#### Çalma listesindeki popüler şarkıların dağılım grafiklerini belirlemek için Tempo sütununu Dans Edilebilirlik sütununa karşı kullandım.\n",
    "\n"
   ]
  },
  {
   "cell_type": "markdown",
   "metadata": {},
   "source": []
  }
 ],
 "metadata": {
  "kernelspec": {
   "display_name": "Python 3",
   "language": "python",
   "name": "python3"
  },
  "language_info": {
   "codemirror_mode": {
    "name": "ipython",
    "version": 3
   },
   "file_extension": ".py",
   "mimetype": "text/x-python",
   "name": "python",
   "nbconvert_exporter": "python",
   "pygments_lexer": "ipython3",
   "version": "3.11.5"
  }
 },
 "nbformat": 4,
 "nbformat_minor": 2
}
