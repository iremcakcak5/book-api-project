{
 "cells": [
  {
   "cell_type": "code",
   "execution_count": 137,
   "metadata": {},
   "outputs": [],
   "source": [
    "import requests\n",
    "from config.config import Client_Secret, Client_ID\n",
    "import base64\n",
    "from requests import post , get\n",
    "import json\n",
    "from IPython.display import display\n",
    "import matplotlib.pyplot as plt\n",
    "import plotly.express as px\n",
    "import seaborn as sns\n"
   ]
  },
  {
   "cell_type": "code",
   "execution_count": 121,
   "metadata": {},
   "outputs": [],
   "source": [
    "#Spotify API isteklerini yetkilendirmek için kullanılan kimlik bilgileri\n",
    "def get_token():\n",
    "    auth_string = f\"{Client_ID}:{Client_Secret}\"\n",
    "    auth_bytes = auth_string.encode(\"utf-8\")\n",
    "    auth_base64 = str(base64.b64encode(auth_bytes).decode(\"utf-8\"))\n",
    "\n",
    "    url = 'https://accounts.spotify.com/api/token'\n",
    "    headers = {\n",
    "        'Authorization': 'Basic ' + auth_base64\n",
    "    }\n",
    "    #token alma\n",
    "    data = {'grant_type': 'client_credentials'}\n",
    "    response = requests.post(url, headers=headers, data=data)\n",
    "    json_result = response.json()\n",
    "\n",
    "    if response.status_code == 200:\n",
    "        token = json_result['access_token']\n",
    "        print('Access Token: alındı'+ \" \"+token)\n",
    "        return token\n",
    "    else:\n",
    "        print('Error:', response.status_code)\n",
    "        print('Response:', json_result)\n",
    "        return None"
   ]
  },
  {
   "cell_type": "code",
   "execution_count": 122,
   "metadata": {},
   "outputs": [
    {
     "name": "stdout",
     "output_type": "stream",
     "text": [
      "Access Token: alındı BQAE73apt2YFIuD_t9prXQwGQIarLofP-RD1pE-oZLbiBNafph_wckwXbbaqh9-GJpAd1gpkt2oPrpf6CeAy10y6NGgUBBEQLzl7-PlogTjkv2nFLDo\n"
     ]
    }
   ],
   "source": [
    "#authorization\n",
    "def get_auth(token):\n",
    "     return{ 'Authorization': 'Bearer ' + token}\n",
    "#Erişim token'ını almak için get_token fonksiyonunu kullanılır.\n",
    "token=get_token()"
   ]
  },
  {
   "cell_type": "code",
   "execution_count": 123,
   "metadata": {},
   "outputs": [
    {
     "data": {
      "text/html": [
       "<div>\n",
       "<style scoped>\n",
       "    .dataframe tbody tr th:only-of-type {\n",
       "        vertical-align: middle;\n",
       "    }\n",
       "\n",
       "    .dataframe tbody tr th {\n",
       "        vertical-align: top;\n",
       "    }\n",
       "\n",
       "    .dataframe thead th {\n",
       "        text-align: right;\n",
       "    }\n",
       "</style>\n",
       "<table border=\"1\" class=\"dataframe\">\n",
       "  <thead>\n",
       "    <tr style=\"text-align: right;\">\n",
       "      <th></th>\n",
       "      <th>Playlist_owner_id</th>\n",
       "      <th>Playlist_name</th>\n",
       "      <th>Playlist_id</th>\n",
       "      <th>Number_of_songs</th>\n",
       "      <th>Playlist_uri</th>\n",
       "    </tr>\n",
       "  </thead>\n",
       "  <tbody>\n",
       "    <tr>\n",
       "      <th>0</th>\n",
       "      <td>31rmq7qts5n52ox2si25ead5iqaq</td>\n",
       "      <td>2. Karışık</td>\n",
       "      <td>2gEpmDLiL0RiG86dtYd7Cc</td>\n",
       "      <td>44</td>\n",
       "      <td>spotify:playlist:2gEpmDLiL0RiG86dtYd7Cc</td>\n",
       "    </tr>\n",
       "    <tr>\n",
       "      <th>1</th>\n",
       "      <td>31rmq7qts5n52ox2si25ead5iqaq</td>\n",
       "      <td>1. Çalma Listem</td>\n",
       "      <td>7lGk615a7j3e1NqStHea9r</td>\n",
       "      <td>29</td>\n",
       "      <td>spotify:playlist:7lGk615a7j3e1NqStHea9r</td>\n",
       "    </tr>\n",
       "  </tbody>\n",
       "</table>\n",
       "</div>"
      ],
      "text/plain": [
       "              Playlist_owner_id    Playlist_name             Playlist_id  \\\n",
       "0  31rmq7qts5n52ox2si25ead5iqaq       2. Karışık  2gEpmDLiL0RiG86dtYd7Cc   \n",
       "1  31rmq7qts5n52ox2si25ead5iqaq  1. Çalma Listem  7lGk615a7j3e1NqStHea9r   \n",
       "\n",
       "   Number_of_songs                             Playlist_uri  \n",
       "0               44  spotify:playlist:2gEpmDLiL0RiG86dtYd7Cc  \n",
       "1               29  spotify:playlist:7lGk615a7j3e1NqStHea9r  "
      ]
     },
     "execution_count": 123,
     "metadata": {},
     "output_type": "execute_result"
    }
   ],
   "source": [
    "def get_user_playlists(token, user_id):\n",
    "    # Kullanıcıya ait çalma listesi getiren fonksiyon\n",
    "    url = f\"https://api.spotify.com/v1/users/{user_id}/playlists\"\n",
    "    headers=get_auth(token)\n",
    "\n",
    "    response = requests.get(url, headers=headers)\n",
    "\n",
    "    if response.status_code == 200:\n",
    "        json_response = response.json()\n",
    "        playlist_dt = response.json()\n",
    "        return playlist_dt.get('items', [])\n",
    "    else:\n",
    "        print('Error:', response.status_code)\n",
    "        print('Response:', response.json())\n",
    "        return None\n",
    "\n",
    "user_id='31rmq7qts5n52ox2si25ead5iqaq'\n",
    "playlist_dt=get_user_playlists(token,user_id)\n",
    "\n",
    "# Tüm çalma listelerini depolamak için \n",
    "all_playlists = {'Playlist_owner_id':[], 'Playlist_name':[], 'Playlist_id':[], 'Number_of_songs':[],'Playlist_uri':[]}\n",
    "\n",
    "# #Çalma listesi varsa\n",
    "# if response.status_code == 200:\n",
    "#     for playlist in json_result['items']:\n",
    "#         print('Playlist ID:', playlist['id'])\n",
    "#         print('Playlist Name:', playlist['name'])\n",
    "#         print('Playlist URI:', playlist['uri'])\n",
    "#         print('Playlist Owner ID:', playlist['owner']['id'])\n",
    "#         print('-----------------------------')\n",
    "# else:\n",
    "#     print('Error:', response.status_code)\n",
    "#     print('Response:', json_result)\n",
    "\n",
    "if playlist_dt:\n",
    "    # Her çalma listesi için gerekli bilgileri çıkart\n",
    "    for playlist in playlist_dt:\n",
    "        all_playlists['Playlist_id'].append(playlist['id'])\n",
    "        all_playlists['Playlist_name'].append(playlist['name'])\n",
    "        all_playlists['Number_of_songs'].append(playlist['tracks']['total'])\n",
    "        all_playlists['Playlist_uri'].append(playlist['uri'])\n",
    "        all_playlists['Playlist_owner_id'].append(playlist['owner']['id'])\n",
    "\n",
    "# Elde edilen bilgileri DataFrame'e dönüştürma\n",
    "all_playlists_df = pd.DataFrame(all_playlists)\n",
    "\n",
    "all_playlists_df\n"
   ]
  },
  {
   "cell_type": "code",
   "execution_count": 124,
   "metadata": {},
   "outputs": [
    {
     "name": "stdout",
     "output_type": "stream",
     "text": [
      "2gEpmDLiL0RiG86dtYd7Cc\n",
      "7lGk615a7j3e1NqStHea9r\n"
     ]
    }
   ],
   "source": [
    "def get_playlist_artists(token,playlist_id):\n",
    "    # Çalma listesindeki parçaları alma\n",
    "    url = f'https://api.spotify.com/v1/playlists/{playlist_id}/tracks'\n",
    "    headers = get_auth(token)\n",
    "    response = requests.get(url, headers=headers)\n",
    "\n",
    "    if response.status_code == 200:\n",
    "        tracks = response.json()\n",
    "        return tracks.get('items', [])\n",
    "\n",
    "    else:\n",
    "        print('Error:', response.status_code)\n",
    "        print('Response:', response.json())\n",
    "        return None\n",
    "    \n",
    "\n",
    "#Çalma listesi id alma\n",
    "for playlist_id in all_playlists_df['Playlist_id']:\n",
    " print(playlist_id)\n",
    "\n"
   ]
  },
  {
   "cell_type": "code",
   "execution_count": 125,
   "metadata": {},
   "outputs": [
    {
     "data": {
      "text/html": [
       "<div>\n",
       "<style scoped>\n",
       "    .dataframe tbody tr th:only-of-type {\n",
       "        vertical-align: middle;\n",
       "    }\n",
       "\n",
       "    .dataframe tbody tr th {\n",
       "        vertical-align: top;\n",
       "    }\n",
       "\n",
       "    .dataframe thead th {\n",
       "        text-align: right;\n",
       "    }\n",
       "</style>\n",
       "<table border=\"1\" class=\"dataframe\">\n",
       "  <thead>\n",
       "    <tr style=\"text-align: right;\">\n",
       "      <th></th>\n",
       "      <th>Name</th>\n",
       "      <th>id</th>\n",
       "      <th>Artist</th>\n",
       "      <th>Duration</th>\n",
       "      <th>Release_date</th>\n",
       "      <th>Popularity</th>\n",
       "    </tr>\n",
       "  </thead>\n",
       "  <tbody>\n",
       "    <tr>\n",
       "      <th>0</th>\n",
       "      <td>Seninle Ben</td>\n",
       "      <td>3W6rKNbovssiDHqIcXBjlk</td>\n",
       "      <td>Gökhan Türkmen</td>\n",
       "      <td>279005</td>\n",
       "      <td>2023-12-27T12:23:02Z</td>\n",
       "      <td>53</td>\n",
       "    </tr>\n",
       "    <tr>\n",
       "      <th>1</th>\n",
       "      <td>Seninle Ben</td>\n",
       "      <td>4mlnEk7KKXiUweyqwwTEjf</td>\n",
       "      <td>Ayna</td>\n",
       "      <td>333760</td>\n",
       "      <td>2023-12-27T12:23:05Z</td>\n",
       "      <td>18</td>\n",
       "    </tr>\n",
       "    <tr>\n",
       "      <th>2</th>\n",
       "      <td>Aşkın Kederi</td>\n",
       "      <td>4tA6mbvO5vzFg9S87s3fcC</td>\n",
       "      <td>Manuş Baba</td>\n",
       "      <td>229960</td>\n",
       "      <td>2023-12-27T12:23:13Z</td>\n",
       "      <td>46</td>\n",
       "    </tr>\n",
       "    <tr>\n",
       "      <th>3</th>\n",
       "      <td>Susma</td>\n",
       "      <td>5Q4OWZdBISVfWjbtRpIeiB</td>\n",
       "      <td>Aşkın Nur Yengi</td>\n",
       "      <td>324826</td>\n",
       "      <td>2023-12-27T12:23:14Z</td>\n",
       "      <td>41</td>\n",
       "    </tr>\n",
       "    <tr>\n",
       "      <th>4</th>\n",
       "      <td>Pamuk</td>\n",
       "      <td>5e84hFQxrRDXsZwScxNIak</td>\n",
       "      <td>Kenan Doğulu</td>\n",
       "      <td>239133</td>\n",
       "      <td>2023-12-27T12:23:16Z</td>\n",
       "      <td>39</td>\n",
       "    </tr>\n",
       "    <tr>\n",
       "      <th>...</th>\n",
       "      <td>...</td>\n",
       "      <td>...</td>\n",
       "      <td>...</td>\n",
       "      <td>...</td>\n",
       "      <td>...</td>\n",
       "      <td>...</td>\n",
       "    </tr>\n",
       "    <tr>\n",
       "      <th>68</th>\n",
       "      <td>Sadece</td>\n",
       "      <td>5PBCWGudD3lw0Qhk7jLMUo</td>\n",
       "      <td>Kalben</td>\n",
       "      <td>175996</td>\n",
       "      <td>2023-12-27T12:24:28Z</td>\n",
       "      <td>66</td>\n",
       "    </tr>\n",
       "    <tr>\n",
       "      <th>69</th>\n",
       "      <td>Kısa Mesafe</td>\n",
       "      <td>7AeN1Miu6Io3ewNUdBzhyy</td>\n",
       "      <td>Rafat Hasanlı</td>\n",
       "      <td>147497</td>\n",
       "      <td>2023-12-27T12:24:38Z</td>\n",
       "      <td>68</td>\n",
       "    </tr>\n",
       "    <tr>\n",
       "      <th>70</th>\n",
       "      <td>Giderdi Hoşuma</td>\n",
       "      <td>7LXZEyI1ke06UnmuwG4P8d</td>\n",
       "      <td>Yaşlı Amca</td>\n",
       "      <td>220530</td>\n",
       "      <td>2023-12-27T12:24:41Z</td>\n",
       "      <td>64</td>\n",
       "    </tr>\n",
       "    <tr>\n",
       "      <th>71</th>\n",
       "      <td>Galiba - Orijinal Rap Versiyon</td>\n",
       "      <td>6uuQZFYzeUf1NR5tucdjj5</td>\n",
       "      <td>Sagopa Kajmer</td>\n",
       "      <td>300506</td>\n",
       "      <td>2023-12-27T12:24:41Z</td>\n",
       "      <td>64</td>\n",
       "    </tr>\n",
       "    <tr>\n",
       "      <th>72</th>\n",
       "      <td>Anıları Sakla</td>\n",
       "      <td>5035Pnz4KHUNX6Hhk4A2H5</td>\n",
       "      <td>Batuhan Kordel</td>\n",
       "      <td>216789</td>\n",
       "      <td>2023-12-27T12:24:41Z</td>\n",
       "      <td>62</td>\n",
       "    </tr>\n",
       "  </tbody>\n",
       "</table>\n",
       "<p>73 rows × 6 columns</p>\n",
       "</div>"
      ],
      "text/plain": [
       "                              Name                      id           Artist  \\\n",
       "0                      Seninle Ben  3W6rKNbovssiDHqIcXBjlk   Gökhan Türkmen   \n",
       "1                      Seninle Ben  4mlnEk7KKXiUweyqwwTEjf             Ayna   \n",
       "2                     Aşkın Kederi  4tA6mbvO5vzFg9S87s3fcC       Manuş Baba   \n",
       "3                            Susma  5Q4OWZdBISVfWjbtRpIeiB  Aşkın Nur Yengi   \n",
       "4                            Pamuk  5e84hFQxrRDXsZwScxNIak     Kenan Doğulu   \n",
       "..                             ...                     ...              ...   \n",
       "68                          Sadece  5PBCWGudD3lw0Qhk7jLMUo           Kalben   \n",
       "69                     Kısa Mesafe  7AeN1Miu6Io3ewNUdBzhyy    Rafat Hasanlı   \n",
       "70                  Giderdi Hoşuma  7LXZEyI1ke06UnmuwG4P8d       Yaşlı Amca   \n",
       "71  Galiba - Orijinal Rap Versiyon  6uuQZFYzeUf1NR5tucdjj5    Sagopa Kajmer   \n",
       "72                   Anıları Sakla  5035Pnz4KHUNX6Hhk4A2H5   Batuhan Kordel   \n",
       "\n",
       "    Duration          Release_date  Popularity  \n",
       "0     279005  2023-12-27T12:23:02Z          53  \n",
       "1     333760  2023-12-27T12:23:05Z          18  \n",
       "2     229960  2023-12-27T12:23:13Z          46  \n",
       "3     324826  2023-12-27T12:23:14Z          41  \n",
       "4     239133  2023-12-27T12:23:16Z          39  \n",
       "..       ...                   ...         ...  \n",
       "68    175996  2023-12-27T12:24:28Z          66  \n",
       "69    147497  2023-12-27T12:24:38Z          68  \n",
       "70    220530  2023-12-27T12:24:41Z          64  \n",
       "71    300506  2023-12-27T12:24:41Z          64  \n",
       "72    216789  2023-12-27T12:24:41Z          62  \n",
       "\n",
       "[73 rows x 6 columns]"
      ]
     },
     "execution_count": 125,
     "metadata": {},
     "output_type": "execute_result"
    }
   ],
   "source": [
    "#Çalma listesindeki her veriyi depolamak için\n",
    "playlists_item={'Name':[],'id':[] ,'Artist':[], 'Duration':[], 'Release_date':[], 'Popularity':[]}\n",
    "\n",
    "#Playlistesindeki verileri alma\n",
    "for playlist_id in all_playlists_df['Playlist_id']:\n",
    "    play_tracks=get_playlist_artists(token,playlist_id)\n",
    "\n",
    "\n",
    "    if play_tracks:\n",
    "            for track in play_tracks:\n",
    "             playlists_item['Name'].append(track['track']['name'])\n",
    "             playlists_item['Artist'].append(track['track']['artists'][0]['name'])\n",
    "             playlists_item['Duration'].append(track['track']['duration_ms'])\n",
    "             playlists_item['Release_date'].append(track['added_at'])\n",
    "             playlists_item['id'].append(track['track']['id'])\n",
    "             playlists_item['Popularity'].append(track['track']['popularity'])\n",
    "\n",
    "#DataFrame çevğrme\n",
    "playlists_item_df =pd.DataFrame(playlists_item)\n",
    "playlists_item_df\n",
    "\n",
    "            "
   ]
  },
  {
   "cell_type": "code",
   "execution_count": null,
   "metadata": {},
   "outputs": [],
   "source": [
    "#Şarkılardaki ses özelliklerini alma"
   ]
  },
  {
   "cell_type": "code",
   "execution_count": 126,
   "metadata": {},
   "outputs": [],
   "source": [
    "#DataFrame'i csv dosyasına kaydetme\n",
    "playlists_item_df.to_csv('playlists_item.csv', index=False)\n"
   ]
  },
  {
   "cell_type": "markdown",
   "metadata": {},
   "source": [
    "## Veri Görselleştirme"
   ]
  },
  {
   "cell_type": "code",
   "execution_count": 127,
   "metadata": {},
   "outputs": [],
   "source": [
    "spotify=pd.read_csv('spotify.csv')"
   ]
  },
  {
   "cell_type": "code",
   "execution_count": 128,
   "metadata": {},
   "outputs": [
    {
     "data": {
      "text/html": [
       "<div>\n",
       "<style scoped>\n",
       "    .dataframe tbody tr th:only-of-type {\n",
       "        vertical-align: middle;\n",
       "    }\n",
       "\n",
       "    .dataframe tbody tr th {\n",
       "        vertical-align: top;\n",
       "    }\n",
       "\n",
       "    .dataframe thead th {\n",
       "        text-align: right;\n",
       "    }\n",
       "</style>\n",
       "<table border=\"1\" class=\"dataframe\">\n",
       "  <thead>\n",
       "    <tr style=\"text-align: right;\">\n",
       "      <th></th>\n",
       "      <th>Name</th>\n",
       "      <th>id</th>\n",
       "      <th>Artist</th>\n",
       "      <th>Duration</th>\n",
       "      <th>Release_date</th>\n",
       "      <th>Popularity</th>\n",
       "    </tr>\n",
       "  </thead>\n",
       "  <tbody>\n",
       "    <tr>\n",
       "      <th>0</th>\n",
       "      <td>Seninle Ben</td>\n",
       "      <td>3W6rKNbovssiDHqIcXBjlk</td>\n",
       "      <td>Gökhan Türkmen</td>\n",
       "      <td>279005</td>\n",
       "      <td>2023-12-27T12:23:02Z</td>\n",
       "      <td>55</td>\n",
       "    </tr>\n",
       "    <tr>\n",
       "      <th>1</th>\n",
       "      <td>Seninle Ben</td>\n",
       "      <td>4mlnEk7KKXiUweyqwwTEjf</td>\n",
       "      <td>Ayna</td>\n",
       "      <td>333760</td>\n",
       "      <td>2023-12-27T12:23:05Z</td>\n",
       "      <td>19</td>\n",
       "    </tr>\n",
       "    <tr>\n",
       "      <th>2</th>\n",
       "      <td>Aşkın Kederi</td>\n",
       "      <td>4tA6mbvO5vzFg9S87s3fcC</td>\n",
       "      <td>Manuş Baba</td>\n",
       "      <td>229960</td>\n",
       "      <td>2023-12-27T12:23:13Z</td>\n",
       "      <td>47</td>\n",
       "    </tr>\n",
       "    <tr>\n",
       "      <th>3</th>\n",
       "      <td>Susma</td>\n",
       "      <td>5Q4OWZdBISVfWjbtRpIeiB</td>\n",
       "      <td>Aşkın Nur Yengi</td>\n",
       "      <td>324826</td>\n",
       "      <td>2023-12-27T12:23:14Z</td>\n",
       "      <td>42</td>\n",
       "    </tr>\n",
       "    <tr>\n",
       "      <th>4</th>\n",
       "      <td>Pamuk</td>\n",
       "      <td>5e84hFQxrRDXsZwScxNIak</td>\n",
       "      <td>Kenan Doğulu</td>\n",
       "      <td>239133</td>\n",
       "      <td>2023-12-27T12:23:16Z</td>\n",
       "      <td>40</td>\n",
       "    </tr>\n",
       "  </tbody>\n",
       "</table>\n",
       "</div>"
      ],
      "text/plain": [
       "           Name                      id           Artist  Duration  \\\n",
       "0   Seninle Ben  3W6rKNbovssiDHqIcXBjlk   Gökhan Türkmen    279005   \n",
       "1   Seninle Ben  4mlnEk7KKXiUweyqwwTEjf             Ayna    333760   \n",
       "2  Aşkın Kederi  4tA6mbvO5vzFg9S87s3fcC       Manuş Baba    229960   \n",
       "3         Susma  5Q4OWZdBISVfWjbtRpIeiB  Aşkın Nur Yengi    324826   \n",
       "4         Pamuk  5e84hFQxrRDXsZwScxNIak     Kenan Doğulu    239133   \n",
       "\n",
       "           Release_date  Popularity  \n",
       "0  2023-12-27T12:23:02Z          55  \n",
       "1  2023-12-27T12:23:05Z          19  \n",
       "2  2023-12-27T12:23:13Z          47  \n",
       "3  2023-12-27T12:23:14Z          42  \n",
       "4  2023-12-27T12:23:16Z          40  "
      ]
     },
     "execution_count": 128,
     "metadata": {},
     "output_type": "execute_result"
    }
   ],
   "source": [
    "spotify.head()"
   ]
  },
  {
   "cell_type": "markdown",
   "metadata": {},
   "source": [
    "##### Çalma listesindeki en popüler şarkılar"
   ]
  },
  {
   "cell_type": "code",
   "execution_count": 145,
   "metadata": {},
   "outputs": [
    {
     "data": {
      "image/png": "[encoded data removed]",
      "text/plain": [
       "<Figure size 5000x600 with 1 Axes>"
      ]
     },
     "metadata": {},
     "output_type": "display_data"
    }
   ],
   "source": [
    "#Bu Çalma Listesindeki Sanatçıya göre 60'tan büyük şarkıların popülaritesi\n",
    "high_po = spotify.loc[ spotify ['Popularity' ] >= 60 ].sort_values( by =[ 'Popularity' ] ,ascending = False) \n",
    "\n",
    "plt.figure(figsize=(50, 6))\n",
    "sns.barplot(x='Artist', y='Popularity', data=high_po)\n",
    "plt.title('Popularity of songs greater than 60 by Artist in this Playlist')\n",
    "plt.xlabel('Artist')\n",
    "plt.ylabel('Popularity')\n",
    "plt.show()"
   ]
  },
  {
   "cell_type": "code",
   "execution_count": 138,
   "metadata": {},
   "outputs": [
    {
     "data": {
      "text/plain": [
       "<Axes: >"
      ]
     },
     "execution_count": 138,
     "metadata": {},
     "output_type": "execute_result"
    },
    {
     "data": {
      "image/png": "[encoded data removed]",
      "text/plain": [
       "<Figure size 640x480 with 2 Axes>"
      ]
     },
     "metadata": {},
     "output_type": "display_data"
    }
   ],
   "source": [
    "sns.heatmap(spotify.isna())\n",
    "#eksik değer olup olmadığını gösteren ısı haritası"
   ]
  },
  {
   "cell_type": "code",
   "execution_count": null,
   "metadata": {},
   "outputs": [],
   "source": []
  }
 ],
 "metadata": {
  "kernelspec": {
   "display_name": "Python 3",
   "language": "python",
   "name": "python3"
  },
  "language_info": {
   "codemirror_mode": {
    "name": "ipython",
    "version": 3
   },
   "file_extension": ".py",
   "mimetype": "text/x-python",
   "name": "python",
   "nbconvert_exporter": "python",
   "pygments_lexer": "ipython3",
   "version": "3.11.5"
  }
 },
 "nbformat": 4,
 "nbformat_minor": 2
}
